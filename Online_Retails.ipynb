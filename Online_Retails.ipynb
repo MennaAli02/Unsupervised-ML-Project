{
 "cells": [
  {
   "cell_type": "code",
   "execution_count": 345,
   "id": "918692fd",
   "metadata": {},
   "outputs": [],
   "source": [
    "import pandas as pd   #import pandas to read csv filed\n",
    "import numpy as np     #import numpy to create arrays for detecting the outliers"
   ]
  },
  {
   "cell_type": "code",
   "execution_count": 346,
   "id": "e992b11a",
   "metadata": {},
   "outputs": [
    {
     "data": {
      "text/html": [
       "<div>\n",
       "<style scoped>\n",
       "    .dataframe tbody tr th:only-of-type {\n",
       "        vertical-align: middle;\n",
       "    }\n",
       "\n",
       "    .dataframe tbody tr th {\n",
       "        vertical-align: top;\n",
       "    }\n",
       "\n",
       "    .dataframe thead th {\n",
       "        text-align: right;\n",
       "    }\n",
       "</style>\n",
       "<table border=\"1\" class=\"dataframe\">\n",
       "  <thead>\n",
       "    <tr style=\"text-align: right;\">\n",
       "      <th></th>\n",
       "      <th>InvoiceNo</th>\n",
       "      <th>StockCode</th>\n",
       "      <th>Description</th>\n",
       "      <th>Quantity</th>\n",
       "      <th>InvoiceDate</th>\n",
       "      <th>UnitPrice</th>\n",
       "      <th>CustomerID</th>\n",
       "      <th>Country</th>\n",
       "    </tr>\n",
       "  </thead>\n",
       "  <tbody>\n",
       "    <tr>\n",
       "      <th>0</th>\n",
       "      <td>536365</td>\n",
       "      <td>85123A</td>\n",
       "      <td>WHITE HANGING HEART T-LIGHT HOLDER</td>\n",
       "      <td>6</td>\n",
       "      <td>12/1/2010 8:26</td>\n",
       "      <td>2.55</td>\n",
       "      <td>17850.0</td>\n",
       "      <td>United Kingdom</td>\n",
       "    </tr>\n",
       "    <tr>\n",
       "      <th>1</th>\n",
       "      <td>536365</td>\n",
       "      <td>71053</td>\n",
       "      <td>WHITE METAL LANTERN</td>\n",
       "      <td>6</td>\n",
       "      <td>12/1/2010 8:26</td>\n",
       "      <td>3.39</td>\n",
       "      <td>17850.0</td>\n",
       "      <td>United Kingdom</td>\n",
       "    </tr>\n",
       "    <tr>\n",
       "      <th>2</th>\n",
       "      <td>536365</td>\n",
       "      <td>84406B</td>\n",
       "      <td>CREAM CUPID HEARTS COAT HANGER</td>\n",
       "      <td>8</td>\n",
       "      <td>12/1/2010 8:26</td>\n",
       "      <td>2.75</td>\n",
       "      <td>17850.0</td>\n",
       "      <td>United Kingdom</td>\n",
       "    </tr>\n",
       "    <tr>\n",
       "      <th>3</th>\n",
       "      <td>536365</td>\n",
       "      <td>84029G</td>\n",
       "      <td>KNITTED UNION FLAG HOT WATER BOTTLE</td>\n",
       "      <td>6</td>\n",
       "      <td>12/1/2010 8:26</td>\n",
       "      <td>3.39</td>\n",
       "      <td>17850.0</td>\n",
       "      <td>United Kingdom</td>\n",
       "    </tr>\n",
       "    <tr>\n",
       "      <th>4</th>\n",
       "      <td>536365</td>\n",
       "      <td>84029E</td>\n",
       "      <td>RED WOOLLY HOTTIE WHITE HEART.</td>\n",
       "      <td>6</td>\n",
       "      <td>12/1/2010 8:26</td>\n",
       "      <td>3.39</td>\n",
       "      <td>17850.0</td>\n",
       "      <td>United Kingdom</td>\n",
       "    </tr>\n",
       "    <tr>\n",
       "      <th>...</th>\n",
       "      <td>...</td>\n",
       "      <td>...</td>\n",
       "      <td>...</td>\n",
       "      <td>...</td>\n",
       "      <td>...</td>\n",
       "      <td>...</td>\n",
       "      <td>...</td>\n",
       "      <td>...</td>\n",
       "    </tr>\n",
       "    <tr>\n",
       "      <th>541904</th>\n",
       "      <td>581587</td>\n",
       "      <td>22613</td>\n",
       "      <td>PACK OF 20 SPACEBOY NAPKINS</td>\n",
       "      <td>12</td>\n",
       "      <td>12/9/2011 12:50</td>\n",
       "      <td>0.85</td>\n",
       "      <td>12680.0</td>\n",
       "      <td>France</td>\n",
       "    </tr>\n",
       "    <tr>\n",
       "      <th>541905</th>\n",
       "      <td>581587</td>\n",
       "      <td>22899</td>\n",
       "      <td>CHILDREN'S APRON DOLLY GIRL</td>\n",
       "      <td>6</td>\n",
       "      <td>12/9/2011 12:50</td>\n",
       "      <td>2.10</td>\n",
       "      <td>12680.0</td>\n",
       "      <td>France</td>\n",
       "    </tr>\n",
       "    <tr>\n",
       "      <th>541906</th>\n",
       "      <td>581587</td>\n",
       "      <td>23254</td>\n",
       "      <td>CHILDRENS CUTLERY DOLLY GIRL</td>\n",
       "      <td>4</td>\n",
       "      <td>12/9/2011 12:50</td>\n",
       "      <td>4.15</td>\n",
       "      <td>12680.0</td>\n",
       "      <td>France</td>\n",
       "    </tr>\n",
       "    <tr>\n",
       "      <th>541907</th>\n",
       "      <td>581587</td>\n",
       "      <td>23255</td>\n",
       "      <td>CHILDRENS CUTLERY CIRCUS PARADE</td>\n",
       "      <td>4</td>\n",
       "      <td>12/9/2011 12:50</td>\n",
       "      <td>4.15</td>\n",
       "      <td>12680.0</td>\n",
       "      <td>France</td>\n",
       "    </tr>\n",
       "    <tr>\n",
       "      <th>541908</th>\n",
       "      <td>581587</td>\n",
       "      <td>22138</td>\n",
       "      <td>BAKING SET 9 PIECE RETROSPOT</td>\n",
       "      <td>3</td>\n",
       "      <td>12/9/2011 12:50</td>\n",
       "      <td>4.95</td>\n",
       "      <td>12680.0</td>\n",
       "      <td>France</td>\n",
       "    </tr>\n",
       "  </tbody>\n",
       "</table>\n",
       "<p>541909 rows × 8 columns</p>\n",
       "</div>"
      ],
      "text/plain": [
       "       InvoiceNo StockCode                          Description  Quantity  \\\n",
       "0         536365    85123A   WHITE HANGING HEART T-LIGHT HOLDER         6   \n",
       "1         536365     71053                  WHITE METAL LANTERN         6   \n",
       "2         536365    84406B       CREAM CUPID HEARTS COAT HANGER         8   \n",
       "3         536365    84029G  KNITTED UNION FLAG HOT WATER BOTTLE         6   \n",
       "4         536365    84029E       RED WOOLLY HOTTIE WHITE HEART.         6   \n",
       "...          ...       ...                                  ...       ...   \n",
       "541904    581587     22613          PACK OF 20 SPACEBOY NAPKINS        12   \n",
       "541905    581587     22899         CHILDREN'S APRON DOLLY GIRL          6   \n",
       "541906    581587     23254        CHILDRENS CUTLERY DOLLY GIRL          4   \n",
       "541907    581587     23255      CHILDRENS CUTLERY CIRCUS PARADE         4   \n",
       "541908    581587     22138        BAKING SET 9 PIECE RETROSPOT          3   \n",
       "\n",
       "            InvoiceDate  UnitPrice  CustomerID         Country  \n",
       "0        12/1/2010 8:26       2.55     17850.0  United Kingdom  \n",
       "1        12/1/2010 8:26       3.39     17850.0  United Kingdom  \n",
       "2        12/1/2010 8:26       2.75     17850.0  United Kingdom  \n",
       "3        12/1/2010 8:26       3.39     17850.0  United Kingdom  \n",
       "4        12/1/2010 8:26       3.39     17850.0  United Kingdom  \n",
       "...                 ...        ...         ...             ...  \n",
       "541904  12/9/2011 12:50       0.85     12680.0          France  \n",
       "541905  12/9/2011 12:50       2.10     12680.0          France  \n",
       "541906  12/9/2011 12:50       4.15     12680.0          France  \n",
       "541907  12/9/2011 12:50       4.15     12680.0          France  \n",
       "541908  12/9/2011 12:50       4.95     12680.0          France  \n",
       "\n",
       "[541909 rows x 8 columns]"
      ]
     },
     "execution_count": 346,
     "metadata": {},
     "output_type": "execute_result"
    }
   ],
   "source": [
    "data=pd.read_csv('C:/Users/USER/Desktop/Sprints/Online Retail.csv')   #read csv file and show data\n",
    "data"
   ]
  },
  {
   "cell_type": "code",
   "execution_count": 347,
   "id": "18f4f6e2",
   "metadata": {},
   "outputs": [
    {
     "name": "stdout",
     "output_type": "stream",
     "text": [
      "<class 'pandas.core.frame.DataFrame'>\n",
      "RangeIndex: 541909 entries, 0 to 541908\n",
      "Data columns (total 8 columns):\n",
      " #   Column       Non-Null Count   Dtype  \n",
      "---  ------       --------------   -----  \n",
      " 0   InvoiceNo    541909 non-null  object \n",
      " 1   StockCode    541909 non-null  object \n",
      " 2   Description  540455 non-null  object \n",
      " 3   Quantity     541909 non-null  int64  \n",
      " 4   InvoiceDate  541909 non-null  object \n",
      " 5   UnitPrice    541909 non-null  float64\n",
      " 6   CustomerID   406829 non-null  float64\n",
      " 7   Country      541909 non-null  object \n",
      "dtypes: float64(2), int64(1), object(5)\n",
      "memory usage: 33.1+ MB\n"
     ]
    }
   ],
   "source": [
    "data.info()   #this shows information about data(no of columns=8, no of rows=541909,types of data in each column and number of nulls)"
   ]
  },
  {
   "cell_type": "markdown",
   "id": "131e62ff",
   "metadata": {},
   "source": [
    "## Data Preprocessing"
   ]
  },
  {
   "cell_type": "markdown",
   "id": "365929ba",
   "metadata": {},
   "source": [
    "### removing missing values"
   ]
  },
  {
   "cell_type": "code",
   "execution_count": 348,
   "id": "6f8d5153",
   "metadata": {},
   "outputs": [
    {
     "data": {
      "text/plain": [
       "InvoiceNo           0\n",
       "StockCode           0\n",
       "Description      1454\n",
       "Quantity            0\n",
       "InvoiceDate         0\n",
       "UnitPrice           0\n",
       "CustomerID     135080\n",
       "Country             0\n",
       "dtype: int64"
      ]
     },
     "execution_count": 348,
     "metadata": {},
     "output_type": "execute_result"
    }
   ],
   "source": [
    "#isnull function to check if there is missing data\n",
    "#sum function to calculate their total in each column\n",
    "data[data.columns].isnull().sum()   "
   ]
  },
  {
   "cell_type": "code",
   "execution_count": 349,
   "id": "9f8b7365",
   "metadata": {},
   "outputs": [
    {
     "data": {
      "text/plain": [
       "InvoiceNo      0\n",
       "StockCode      0\n",
       "Description    0\n",
       "Quantity       0\n",
       "InvoiceDate    0\n",
       "UnitPrice      0\n",
       "CustomerID     0\n",
       "Country        0\n",
       "dtype: int64"
      ]
     },
     "execution_count": 349,
     "metadata": {},
     "output_type": "execute_result"
    }
   ],
   "source": [
    "#drop rows with missing values in customer ID colomn as it can't be handled by any values\n",
    "data.dropna(subset=['CustomerID'], inplace=True)\n",
    "data[data.columns].isnull().sum()"
   ]
  },
  {
   "cell_type": "code",
   "execution_count": 350,
   "id": "2536dc0f",
   "metadata": {},
   "outputs": [
    {
     "data": {
      "text/plain": [
       "(406829, 8)"
      ]
     },
     "execution_count": 350,
     "metadata": {},
     "output_type": "execute_result"
    }
   ],
   "source": [
    "data.shape # data shape attribute to show that number of rows decreased by removing missing"
   ]
  },
  {
   "cell_type": "markdown",
   "id": "63e0a53e",
   "metadata": {},
   "source": [
    "### Feature Extraction"
   ]
  },
  {
   "cell_type": "code",
   "execution_count": 351,
   "id": "2d36ccd0",
   "metadata": {},
   "outputs": [
    {
     "data": {
      "text/html": [
       "<div>\n",
       "<style scoped>\n",
       "    .dataframe tbody tr th:only-of-type {\n",
       "        vertical-align: middle;\n",
       "    }\n",
       "\n",
       "    .dataframe tbody tr th {\n",
       "        vertical-align: top;\n",
       "    }\n",
       "\n",
       "    .dataframe thead th {\n",
       "        text-align: right;\n",
       "    }\n",
       "</style>\n",
       "<table border=\"1\" class=\"dataframe\">\n",
       "  <thead>\n",
       "    <tr style=\"text-align: right;\">\n",
       "      <th></th>\n",
       "      <th>CustomerID</th>\n",
       "      <th>total_money</th>\n",
       "    </tr>\n",
       "  </thead>\n",
       "  <tbody>\n",
       "    <tr>\n",
       "      <th>0</th>\n",
       "      <td>12346.0</td>\n",
       "      <td>0.00</td>\n",
       "    </tr>\n",
       "    <tr>\n",
       "      <th>1</th>\n",
       "      <td>12347.0</td>\n",
       "      <td>4310.00</td>\n",
       "    </tr>\n",
       "    <tr>\n",
       "      <th>2</th>\n",
       "      <td>12348.0</td>\n",
       "      <td>1797.24</td>\n",
       "    </tr>\n",
       "    <tr>\n",
       "      <th>3</th>\n",
       "      <td>12349.0</td>\n",
       "      <td>1757.55</td>\n",
       "    </tr>\n",
       "    <tr>\n",
       "      <th>4</th>\n",
       "      <td>12350.0</td>\n",
       "      <td>334.40</td>\n",
       "    </tr>\n",
       "  </tbody>\n",
       "</table>\n",
       "</div>"
      ],
      "text/plain": [
       "   CustomerID  total_money\n",
       "0     12346.0         0.00\n",
       "1     12347.0      4310.00\n",
       "2     12348.0      1797.24\n",
       "3     12349.0      1757.55\n",
       "4     12350.0       334.40"
      ]
     },
     "execution_count": 351,
     "metadata": {},
     "output_type": "execute_result"
    }
   ],
   "source": [
    "#removing quantity and unitprice columns by forming new column which is total amount of money as the result of multiplying 2 columns\n",
    "data['total_money'] = data['Quantity']*data['UnitPrice']\n",
    "money = data.groupby('CustomerID')['total_money'].sum()\n",
    "money = money.reset_index()\n",
    "money.head()"
   ]
  },
  {
   "cell_type": "code",
   "execution_count": 352,
   "id": "93f48d7e",
   "metadata": {},
   "outputs": [],
   "source": [
    "#removing Description column and using stockcode column instead represeting for it\n",
    "#removing Quantity,UnitPrice column and replacing it by total_money column\n",
    "# removing country column as I think it's not useful in analysis\n",
    "data.drop(['Description','Quantity','UnitPrice','Country'], axis=1, inplace=True)"
   ]
  },
  {
   "cell_type": "code",
   "execution_count": 353,
   "id": "70b40ec7",
   "metadata": {},
   "outputs": [
    {
     "data": {
      "text/html": [
       "<div>\n",
       "<style scoped>\n",
       "    .dataframe tbody tr th:only-of-type {\n",
       "        vertical-align: middle;\n",
       "    }\n",
       "\n",
       "    .dataframe tbody tr th {\n",
       "        vertical-align: top;\n",
       "    }\n",
       "\n",
       "    .dataframe thead th {\n",
       "        text-align: right;\n",
       "    }\n",
       "</style>\n",
       "<table border=\"1\" class=\"dataframe\">\n",
       "  <thead>\n",
       "    <tr style=\"text-align: right;\">\n",
       "      <th></th>\n",
       "      <th>InvoiceNo</th>\n",
       "      <th>StockCode</th>\n",
       "      <th>InvoiceDate</th>\n",
       "      <th>CustomerID</th>\n",
       "      <th>total_money</th>\n",
       "    </tr>\n",
       "  </thead>\n",
       "  <tbody>\n",
       "    <tr>\n",
       "      <th>0</th>\n",
       "      <td>536365</td>\n",
       "      <td>85123A</td>\n",
       "      <td>12/1/2010 8:26</td>\n",
       "      <td>17850.0</td>\n",
       "      <td>15.30</td>\n",
       "    </tr>\n",
       "    <tr>\n",
       "      <th>1</th>\n",
       "      <td>536365</td>\n",
       "      <td>71053</td>\n",
       "      <td>12/1/2010 8:26</td>\n",
       "      <td>17850.0</td>\n",
       "      <td>20.34</td>\n",
       "    </tr>\n",
       "    <tr>\n",
       "      <th>2</th>\n",
       "      <td>536365</td>\n",
       "      <td>84406B</td>\n",
       "      <td>12/1/2010 8:26</td>\n",
       "      <td>17850.0</td>\n",
       "      <td>22.00</td>\n",
       "    </tr>\n",
       "    <tr>\n",
       "      <th>3</th>\n",
       "      <td>536365</td>\n",
       "      <td>84029G</td>\n",
       "      <td>12/1/2010 8:26</td>\n",
       "      <td>17850.0</td>\n",
       "      <td>20.34</td>\n",
       "    </tr>\n",
       "    <tr>\n",
       "      <th>4</th>\n",
       "      <td>536365</td>\n",
       "      <td>84029E</td>\n",
       "      <td>12/1/2010 8:26</td>\n",
       "      <td>17850.0</td>\n",
       "      <td>20.34</td>\n",
       "    </tr>\n",
       "  </tbody>\n",
       "</table>\n",
       "</div>"
      ],
      "text/plain": [
       "  InvoiceNo StockCode     InvoiceDate  CustomerID  total_money\n",
       "0    536365    85123A  12/1/2010 8:26     17850.0        15.30\n",
       "1    536365     71053  12/1/2010 8:26     17850.0        20.34\n",
       "2    536365    84406B  12/1/2010 8:26     17850.0        22.00\n",
       "3    536365    84029G  12/1/2010 8:26     17850.0        20.34\n",
       "4    536365    84029E  12/1/2010 8:26     17850.0        20.34"
      ]
     },
     "execution_count": 353,
     "metadata": {},
     "output_type": "execute_result"
    }
   ],
   "source": [
    "data.head()  #shows remaining columns after features extraction"
   ]
  },
  {
   "cell_type": "code",
   "execution_count": 354,
   "id": "3789ceea",
   "metadata": {},
   "outputs": [
    {
     "data": {
      "text/plain": [
       "InvoiceNo       object\n",
       "StockCode       object\n",
       "InvoiceDate     object\n",
       "CustomerID     float64\n",
       "total_money    float64\n",
       "dtype: object"
      ]
     },
     "execution_count": 354,
     "metadata": {},
     "output_type": "execute_result"
    }
   ],
   "source": [
    "data.dtypes  #shows types of data  before converting them"
   ]
  },
  {
   "cell_type": "code",
   "execution_count": 355,
   "id": "bb82df3f",
   "metadata": {},
   "outputs": [],
   "source": [
    "#selecting all the categorical columns in the dataset\n",
    "#and converting them into numeric for applying models by using cat.codes\n",
    "data[['InvoiceNo','StockCode','InvoiceDate','CustomerID','total_money']]=data[['InvoiceNo','StockCode','InvoiceDate','CustomerID','total_money']].astype('category')\n",
    "data[['InvoiceNo','StockCode','InvoiceDate','CustomerID','total_money']]=data[['InvoiceNo','StockCode','InvoiceDate','CustomerID','total_money']].apply(lambda x: x.cat.codes)"
   ]
  },
  {
   "cell_type": "code",
   "execution_count": 356,
   "id": "903ddab4",
   "metadata": {},
   "outputs": [
    {
     "data": {
      "text/html": [
       "<div>\n",
       "<style scoped>\n",
       "    .dataframe tbody tr th:only-of-type {\n",
       "        vertical-align: middle;\n",
       "    }\n",
       "\n",
       "    .dataframe tbody tr th {\n",
       "        vertical-align: top;\n",
       "    }\n",
       "\n",
       "    .dataframe thead th {\n",
       "        text-align: right;\n",
       "    }\n",
       "</style>\n",
       "<table border=\"1\" class=\"dataframe\">\n",
       "  <thead>\n",
       "    <tr style=\"text-align: right;\">\n",
       "      <th></th>\n",
       "      <th>InvoiceNo</th>\n",
       "      <th>StockCode</th>\n",
       "      <th>InvoiceDate</th>\n",
       "      <th>CustomerID</th>\n",
       "      <th>total_money</th>\n",
       "    </tr>\n",
       "  </thead>\n",
       "  <tbody>\n",
       "    <tr>\n",
       "      <th>0</th>\n",
       "      <td>0</td>\n",
       "      <td>3249</td>\n",
       "      <td>6070</td>\n",
       "      <td>4048</td>\n",
       "      <td>1665</td>\n",
       "    </tr>\n",
       "    <tr>\n",
       "      <th>1</th>\n",
       "      <td>0</td>\n",
       "      <td>2649</td>\n",
       "      <td>6070</td>\n",
       "      <td>4048</td>\n",
       "      <td>1780</td>\n",
       "    </tr>\n",
       "    <tr>\n",
       "      <th>2</th>\n",
       "      <td>0</td>\n",
       "      <td>2855</td>\n",
       "      <td>6070</td>\n",
       "      <td>4048</td>\n",
       "      <td>1819</td>\n",
       "    </tr>\n",
       "    <tr>\n",
       "      <th>3</th>\n",
       "      <td>0</td>\n",
       "      <td>2803</td>\n",
       "      <td>6070</td>\n",
       "      <td>4048</td>\n",
       "      <td>1780</td>\n",
       "    </tr>\n",
       "    <tr>\n",
       "      <th>4</th>\n",
       "      <td>0</td>\n",
       "      <td>2802</td>\n",
       "      <td>6070</td>\n",
       "      <td>4048</td>\n",
       "      <td>1780</td>\n",
       "    </tr>\n",
       "    <tr>\n",
       "      <th>...</th>\n",
       "      <td>...</td>\n",
       "      <td>...</td>\n",
       "      <td>...</td>\n",
       "      <td>...</td>\n",
       "      <td>...</td>\n",
       "    </tr>\n",
       "    <tr>\n",
       "      <th>541904</th>\n",
       "      <td>18535</td>\n",
       "      <td>1470</td>\n",
       "      <td>8338</td>\n",
       "      <td>275</td>\n",
       "      <td>1520</td>\n",
       "    </tr>\n",
       "    <tr>\n",
       "      <th>541905</th>\n",
       "      <td>18535</td>\n",
       "      <td>1746</td>\n",
       "      <td>8338</td>\n",
       "      <td>275</td>\n",
       "      <td>1588</td>\n",
       "    </tr>\n",
       "    <tr>\n",
       "      <th>541906</th>\n",
       "      <td>18535</td>\n",
       "      <td>2086</td>\n",
       "      <td>8338</td>\n",
       "      <td>275</td>\n",
       "      <td>1695</td>\n",
       "    </tr>\n",
       "    <tr>\n",
       "      <th>541907</th>\n",
       "      <td>18535</td>\n",
       "      <td>2087</td>\n",
       "      <td>8338</td>\n",
       "      <td>275</td>\n",
       "      <td>1695</td>\n",
       "    </tr>\n",
       "    <tr>\n",
       "      <th>541908</th>\n",
       "      <td>18535</td>\n",
       "      <td>1039</td>\n",
       "      <td>8338</td>\n",
       "      <td>275</td>\n",
       "      <td>1652</td>\n",
       "    </tr>\n",
       "  </tbody>\n",
       "</table>\n",
       "<p>406829 rows × 5 columns</p>\n",
       "</div>"
      ],
      "text/plain": [
       "        InvoiceNo  StockCode  InvoiceDate  CustomerID  total_money\n",
       "0               0       3249         6070        4048         1665\n",
       "1               0       2649         6070        4048         1780\n",
       "2               0       2855         6070        4048         1819\n",
       "3               0       2803         6070        4048         1780\n",
       "4               0       2802         6070        4048         1780\n",
       "...           ...        ...          ...         ...          ...\n",
       "541904      18535       1470         8338         275         1520\n",
       "541905      18535       1746         8338         275         1588\n",
       "541906      18535       2086         8338         275         1695\n",
       "541907      18535       2087         8338         275         1695\n",
       "541908      18535       1039         8338         275         1652\n",
       "\n",
       "[406829 rows x 5 columns]"
      ]
     },
     "execution_count": 356,
     "metadata": {},
     "output_type": "execute_result"
    }
   ],
   "source": [
    "data"
   ]
  },
  {
   "cell_type": "code",
   "execution_count": 357,
   "id": "ec95bc91",
   "metadata": {},
   "outputs": [
    {
     "data": {
      "text/html": [
       "<div>\n",
       "<style scoped>\n",
       "    .dataframe tbody tr th:only-of-type {\n",
       "        vertical-align: middle;\n",
       "    }\n",
       "\n",
       "    .dataframe tbody tr th {\n",
       "        vertical-align: top;\n",
       "    }\n",
       "\n",
       "    .dataframe thead th {\n",
       "        text-align: right;\n",
       "    }\n",
       "</style>\n",
       "<table border=\"1\" class=\"dataframe\">\n",
       "  <thead>\n",
       "    <tr style=\"text-align: right;\">\n",
       "      <th></th>\n",
       "      <th>count</th>\n",
       "      <th>mean</th>\n",
       "      <th>std</th>\n",
       "      <th>min</th>\n",
       "      <th>25%</th>\n",
       "      <th>50%</th>\n",
       "      <th>75%</th>\n",
       "      <th>max</th>\n",
       "    </tr>\n",
       "  </thead>\n",
       "  <tbody>\n",
       "    <tr>\n",
       "      <th>InvoiceNo</th>\n",
       "      <td>406829.0</td>\n",
       "      <td>9950.901755</td>\n",
       "      <td>5552.295845</td>\n",
       "      <td>0.0</td>\n",
       "      <td>5060.0</td>\n",
       "      <td>10310.0</td>\n",
       "      <td>14651.0</td>\n",
       "      <td>22189.0</td>\n",
       "    </tr>\n",
       "    <tr>\n",
       "      <th>StockCode</th>\n",
       "      <td>406829.0</td>\n",
       "      <td>1573.257501</td>\n",
       "      <td>844.054584</td>\n",
       "      <td>0.0</td>\n",
       "      <td>937.0</td>\n",
       "      <td>1522.0</td>\n",
       "      <td>2106.0</td>\n",
       "      <td>3683.0</td>\n",
       "    </tr>\n",
       "    <tr>\n",
       "      <th>InvoiceDate</th>\n",
       "      <td>406829.0</td>\n",
       "      <td>9873.635245</td>\n",
       "      <td>6061.121177</td>\n",
       "      <td>0.0</td>\n",
       "      <td>4434.0</td>\n",
       "      <td>9518.0</td>\n",
       "      <td>15303.0</td>\n",
       "      <td>20459.0</td>\n",
       "    </tr>\n",
       "    <tr>\n",
       "      <th>CustomerID</th>\n",
       "      <td>406829.0</td>\n",
       "      <td>2176.377102</td>\n",
       "      <td>1255.543861</td>\n",
       "      <td>0.0</td>\n",
       "      <td>1196.0</td>\n",
       "      <td>2073.0</td>\n",
       "      <td>3287.0</td>\n",
       "      <td>4371.0</td>\n",
       "    </tr>\n",
       "    <tr>\n",
       "      <th>total_money</th>\n",
       "      <td>406829.0</td>\n",
       "      <td>1599.123376</td>\n",
       "      <td>418.219764</td>\n",
       "      <td>0.0</td>\n",
       "      <td>1303.0</td>\n",
       "      <td>1546.0</td>\n",
       "      <td>1755.0</td>\n",
       "      <td>4040.0</td>\n",
       "    </tr>\n",
       "  </tbody>\n",
       "</table>\n",
       "</div>"
      ],
      "text/plain": [
       "                count         mean          std  min     25%      50%  \\\n",
       "InvoiceNo    406829.0  9950.901755  5552.295845  0.0  5060.0  10310.0   \n",
       "StockCode    406829.0  1573.257501   844.054584  0.0   937.0   1522.0   \n",
       "InvoiceDate  406829.0  9873.635245  6061.121177  0.0  4434.0   9518.0   \n",
       "CustomerID   406829.0  2176.377102  1255.543861  0.0  1196.0   2073.0   \n",
       "total_money  406829.0  1599.123376   418.219764  0.0  1303.0   1546.0   \n",
       "\n",
       "                 75%      max  \n",
       "InvoiceNo    14651.0  22189.0  \n",
       "StockCode     2106.0   3683.0  \n",
       "InvoiceDate  15303.0  20459.0  \n",
       "CustomerID    3287.0   4371.0  \n",
       "total_money   1755.0   4040.0  "
      ]
     },
     "execution_count": 357,
     "metadata": {},
     "output_type": "execute_result"
    }
   ],
   "source": [
    "data.describe().T  \n",
    "#show description for data before scaling\n",
    "#this show that the data need to be on the same scale"
   ]
  },
  {
   "cell_type": "markdown",
   "id": "36938dce",
   "metadata": {},
   "source": [
    "## Data Scaling"
   ]
  },
  {
   "cell_type": "code",
   "execution_count": 358,
   "id": "e82e755f",
   "metadata": {},
   "outputs": [],
   "source": [
    "from sklearn.preprocessing import StandardScaler\n",
    "\n",
    "scaler = StandardScaler()   #scaling data by StandardScaler\n",
    " \n",
    "data_scaled = scaler.fit_transform(data.to_numpy())\n",
    "data = pd.DataFrame(data_scaled, columns=['InvoiceNo','StockCode', 'InvoiceDate','CustomerID','total_money'])"
   ]
  },
  {
   "cell_type": "code",
   "execution_count": 359,
   "id": "8272ea3b",
   "metadata": {},
   "outputs": [
    {
     "data": {
      "text/html": [
       "<div>\n",
       "<style scoped>\n",
       "    .dataframe tbody tr th:only-of-type {\n",
       "        vertical-align: middle;\n",
       "    }\n",
       "\n",
       "    .dataframe tbody tr th {\n",
       "        vertical-align: top;\n",
       "    }\n",
       "\n",
       "    .dataframe thead th {\n",
       "        text-align: right;\n",
       "    }\n",
       "</style>\n",
       "<table border=\"1\" class=\"dataframe\">\n",
       "  <thead>\n",
       "    <tr style=\"text-align: right;\">\n",
       "      <th></th>\n",
       "      <th>count</th>\n",
       "      <th>mean</th>\n",
       "      <th>std</th>\n",
       "      <th>min</th>\n",
       "      <th>25%</th>\n",
       "      <th>50%</th>\n",
       "      <th>75%</th>\n",
       "      <th>max</th>\n",
       "    </tr>\n",
       "  </thead>\n",
       "  <tbody>\n",
       "    <tr>\n",
       "      <th>InvoiceNo</th>\n",
       "      <td>406829.0</td>\n",
       "      <td>-2.733182e-13</td>\n",
       "      <td>1.000001</td>\n",
       "      <td>-1.792216</td>\n",
       "      <td>-0.880880</td>\n",
       "      <td>0.064676</td>\n",
       "      <td>0.846515</td>\n",
       "      <td>2.204154</td>\n",
       "    </tr>\n",
       "    <tr>\n",
       "      <th>StockCode</th>\n",
       "      <td>406829.0</td>\n",
       "      <td>-1.943826e-15</td>\n",
       "      <td>1.000001</td>\n",
       "      <td>-1.863931</td>\n",
       "      <td>-0.753812</td>\n",
       "      <td>-0.060728</td>\n",
       "      <td>0.631171</td>\n",
       "      <td>2.499536</td>\n",
       "    </tr>\n",
       "    <tr>\n",
       "      <th>InvoiceDate</th>\n",
       "      <td>406829.0</td>\n",
       "      <td>1.106634e-14</td>\n",
       "      <td>1.000001</td>\n",
       "      <td>-1.629013</td>\n",
       "      <td>-0.897465</td>\n",
       "      <td>-0.058675</td>\n",
       "      <td>0.895770</td>\n",
       "      <td>1.746439</td>\n",
       "    </tr>\n",
       "    <tr>\n",
       "      <th>CustomerID</th>\n",
       "      <td>406829.0</td>\n",
       "      <td>-1.439675e-15</td>\n",
       "      <td>1.000001</td>\n",
       "      <td>-1.733416</td>\n",
       "      <td>-0.780840</td>\n",
       "      <td>-0.082337</td>\n",
       "      <td>0.884576</td>\n",
       "      <td>1.747948</td>\n",
       "    </tr>\n",
       "    <tr>\n",
       "      <th>total_money</th>\n",
       "      <td>406829.0</td>\n",
       "      <td>9.930257e-15</td>\n",
       "      <td>1.000001</td>\n",
       "      <td>-3.823648</td>\n",
       "      <td>-0.708058</td>\n",
       "      <td>-0.127023</td>\n",
       "      <td>0.372715</td>\n",
       "      <td>5.836356</td>\n",
       "    </tr>\n",
       "  </tbody>\n",
       "</table>\n",
       "</div>"
      ],
      "text/plain": [
       "                count          mean       std       min       25%       50%  \\\n",
       "InvoiceNo    406829.0 -2.733182e-13  1.000001 -1.792216 -0.880880  0.064676   \n",
       "StockCode    406829.0 -1.943826e-15  1.000001 -1.863931 -0.753812 -0.060728   \n",
       "InvoiceDate  406829.0  1.106634e-14  1.000001 -1.629013 -0.897465 -0.058675   \n",
       "CustomerID   406829.0 -1.439675e-15  1.000001 -1.733416 -0.780840 -0.082337   \n",
       "total_money  406829.0  9.930257e-15  1.000001 -3.823648 -0.708058 -0.127023   \n",
       "\n",
       "                  75%       max  \n",
       "InvoiceNo    0.846515  2.204154  \n",
       "StockCode    0.631171  2.499536  \n",
       "InvoiceDate  0.895770  1.746439  \n",
       "CustomerID   0.884576  1.747948  \n",
       "total_money  0.372715  5.836356  "
      ]
     },
     "execution_count": 359,
     "metadata": {},
     "output_type": "execute_result"
    }
   ],
   "source": [
    "data.describe().T"
   ]
  },
  {
   "cell_type": "markdown",
   "id": "f759de09",
   "metadata": {},
   "source": [
    "## Applying the Models"
   ]
  },
  {
   "cell_type": "markdown",
   "id": "3a19e91f",
   "metadata": {},
   "source": [
    "### K-means clustering"
   ]
  },
  {
   "cell_type": "code",
   "execution_count": 360,
   "id": "5d49fa2d",
   "metadata": {},
   "outputs": [
    {
     "data": {
      "image/png": "[encoded data removed]",
      "text/plain": [
       "<Figure size 432x288 with 1 Axes>"
      ]
     },
     "metadata": {
      "needs_background": "light"
     },
     "output_type": "display_data"
    }
   ],
   "source": [
    "#before applying k_means apply elbow method to choose the optimal number of clusters for the domain \n",
    "from sklearn.cluster import KMeans\n",
    "import matplotlib.pyplot as plt\n",
    "\n",
    "inertias = []\n",
    "\n",
    "for i in range(1,11):\n",
    "    kmeans = KMeans(n_clusters=i)\n",
    "    kmeans.fit(data)\n",
    "    inertias.append(kmeans.inertia_)\n",
    "    \n",
    "plt.plot(range(1,11), inertias, marker='o')\n",
    "plt.title('Elbow method')\n",
    "plt.xlabel('Number of clusters')\n",
    "plt.ylabel('Inertia')\n",
    "plt.show()\n",
    "# after applying the elbow method it shows that the most optimal number of clusters is at 3 approximatly"
   ]
  },
  {
   "cell_type": "code",
   "execution_count": 361,
   "id": "bcdc98b5",
   "metadata": {},
   "outputs": [],
   "source": [
    "X = data.iloc[:, :].values    # X variable representing data with all columns and rows"
   ]
  },
  {
   "cell_type": "code",
   "execution_count": 362,
   "id": "0ec8c2a7",
   "metadata": {},
   "outputs": [],
   "source": [
    "from sklearn.cluster import KMeans  #import used in kmeans clustering\n",
    "\n",
    "kmeans = KMeans(n_clusters=3)  #chosen no of clusters is 3\n",
    "kmeans.fit(X)\n",
    "labels = kmeans.labels_\n",
    "y_kmeans = kmeans.fit_predict(X)"
   ]
  },
  {
   "cell_type": "code",
   "execution_count": 363,
   "id": "7e4e8953",
   "metadata": {},
   "outputs": [
    {
     "name": "stderr",
     "output_type": "stream",
     "text": [
      "C:\\Users\\USER\\anaconda3\\lib\\site-packages\\IPython\\core\\pylabtools.py:132: UserWarning: Creating legend with loc=\"best\" can be slow with large amounts of data.\n",
      "  fig.canvas.print_figure(bytes_io, **kw)\n"
     ]
    },
    {
     "data": {
      "image/png": "[encoded data removed]",
      "text/plain": [
       "<Figure size 432x288 with 1 Axes>"
      ]
     },
     "metadata": {
      "needs_background": "light"
     },
     "output_type": "display_data"
    }
   ],
   "source": [
    "# Visualising the clusters(2D_visualization)\n",
    "plt.scatter(X[y_kmeans == 0, 0], X[y_kmeans == 0, 1], s = 100, c = 'red', label = 'Cluster 1')\n",
    "plt.scatter(X[y_kmeans == 1, 0], X[y_kmeans == 1, 1], s = 100, c = 'blue', label = 'Cluster 2')\n",
    "plt.scatter(X[y_kmeans == 2, 0], X[y_kmeans == 2, 1], s = 100, c = 'green', label = 'Cluster 3')\n",
    "\n",
    "\n",
    "plt.scatter(kmeans.cluster_centers_[:, 0], kmeans.cluster_centers_[:, 1], s = 200, c = 'yellow' , label = 'Centroids')\n",
    "plt.title('Online Retail')\n",
    "plt.xlabel('Customers')\n",
    "plt.ylabel('their Behavior')\n",
    "plt.legend()\n",
    "plt.show()"
   ]
  },
  {
   "cell_type": "code",
   "execution_count": 364,
   "id": "a5221bf2",
   "metadata": {},
   "outputs": [
    {
     "data": {
      "image/png": "[encoded data removed]",
      "text/plain": [
       "<Figure size 720x720 with 1 Axes>"
      ]
     },
     "metadata": {
      "needs_background": "light"
     },
     "output_type": "display_data"
    }
   ],
   "source": [
    "from matplotlib.figure import Figure #this import used in ploting figure\n",
    "fig= plt.figure(figsize = (10,10))  #this shows size of figure\n",
    "#3D_visualization\n",
    "ax = fig.add_subplot(111, projection='3d')\n",
    "ax.scatter(X[y_kmeans == 0,0],X[y_kmeans == 0,1],X[y_kmeans == 0,2], s = 40 , color = 'blue', label = \"cluster 1\")\n",
    "ax.scatter(X[y_kmeans == 1,0],X[y_kmeans == 1,1],X[y_kmeans == 1,2], s = 40 , color = 'red', label = \"cluster 2\")\n",
    "ax.scatter(X[y_kmeans == 2,0],X[y_kmeans == 2,1],X[y_kmeans == 2,2], s = 40 , color = 'green', label = \"cluster 3\")\n",
    "\n",
    "ax.legend()\n",
    "plt.show()"
   ]
  },
  {
   "cell_type": "markdown",
   "id": "17fc2476",
   "metadata": {},
   "source": [
    "### Hierarchical clustering"
   ]
  },
  {
   "cell_type": "code",
   "execution_count": 365,
   "id": "5eacefb1",
   "metadata": {},
   "outputs": [],
   "source": [
    "X = data.iloc[:10000, :].values   # X Represent data by taking only sample of size 10000 from rows and all columns to apply hierarchy as it couldn't run on this size of data"
   ]
  },
  {
   "cell_type": "code",
   "execution_count": 340,
   "id": "67b56be1",
   "metadata": {},
   "outputs": [
    {
     "data": {
      "text/plain": [
       "<matplotlib.lines.Line2D at 0x26b37f65550>"
      ]
     },
     "execution_count": 340,
     "metadata": {},
     "output_type": "execute_result"
    },
    {
     "data": {
      "image/png": "[encoded data removed]",
      "text/plain": [
       "<Figure size 432x288 with 1 Axes>"
      ]
     },
     "metadata": {
      "needs_background": "light"
     },
     "output_type": "display_data"
    }
   ],
   "source": [
    "from scipy.cluster.hierarchy import dendrogram, linkage #import to draw dendogram\n",
    "import scipy.cluster.hierarchy as shc\n",
    "from sklearn import preprocessing\n",
    "\n",
    "plt.title(\"Dendrogram\")  #this to show the title\n",
    "dendogram = shc.dendrogram(shc.linkage(X, method='ward'))\n",
    "plt.axhline(y=6, color='r', linestyle='--')\n",
    "# after applying dendogram it's shown that tha most optimal number of clusters for the data is 3 clusters"
   ]
  },
  {
   "cell_type": "code",
   "execution_count": 366,
   "id": "8cac0091",
   "metadata": {},
   "outputs": [
    {
     "data": {
      "text/plain": [
       "Text(0.5, 1.0, 'Hierarchical clustering')"
      ]
     },
     "execution_count": 366,
     "metadata": {},
     "output_type": "execute_result"
    },
    {
     "data": {
      "image/png": "[encoded data removed]",
      "text/plain": [
       "<Figure size 432x288 with 1 Axes>"
      ]
     },
     "metadata": {
      "needs_background": "light"
     },
     "output_type": "display_data"
    }
   ],
   "source": [
    "from sklearn.cluster import AgglomerativeClustering  #this import to apply clustering\n",
    "\n",
    "hier = AgglomerativeClustering(n_clusters=3)  #3 is the chosen no of clusters\n",
    "y_pred = hier.fit_predict(X)\n",
    "\n",
    "plt.scatter(X[:,0], X[:,1],c=y_pred, cmap='Paired')  #this for visualizing the clusters\n",
    "plt.title(\"Hierarchical clustering\")"
   ]
  }
 ],
 "metadata": {
  "kernelspec": {
   "display_name": "Python 3",
   "language": "python",
   "name": "python3"
  },
  "language_info": {
   "codemirror_mode": {
    "name": "ipython",
    "version": 3
   },
   "file_extension": ".py",
   "mimetype": "text/x-python",
   "name": "python",
   "nbconvert_exporter": "python",
   "pygments_lexer": "ipython3",
   "version": "3.8.8"
  }
 },
 "nbformat": 4,
 "nbformat_minor": 5
}
